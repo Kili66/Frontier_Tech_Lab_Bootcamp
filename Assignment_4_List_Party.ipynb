{
 "cells": [
  {
   "cell_type": "markdown",
   "id": "944fae71",
   "metadata": {},
   "source": [
    "**Scenario:** Imagine you're having a party, and you want to maintain a list of guests. Write a program that uses Python list to add guests, remove guests, and check who's on the list."
   ]
  },
  {
   "cell_type": "code",
   "execution_count": 4,
   "id": "f87edd43",
   "metadata": {
    "scrolled": false
   },
   "outputs": [
    {
     "name": "stdout",
     "output_type": "stream",
     "text": [
      " Enter 1 guest names Ali\n",
      " Enter 2 guest names Omar\n",
      " Enter 3 guest names Mari\n",
      " Enter 4 guest names Izel\n",
      " Enter 5 guest names Lili\n",
      " Enter 6 guest names Kili\n",
      " Enter 7 guest names Simi\n",
      " Enter 8 guest names Medi\n",
      " Enter 9 guest names Fati\n",
      " The guests list is :  ['Ali', 'Omar', 'Mari', 'Izel', 'Lili', 'Kili', 'Simi', 'Medi', 'Fati']\n",
      "Enter the guest name that you wanna remove: Fati\n",
      "Enter the guest name that you wanna remove: Simi\n",
      "Enter the guest name that you wanna remove: Izel\n",
      "Enter the guest name that you wanna remove: Omar\n",
      "Enter the guest name that you wanna remove: Kili\n",
      " The updated guests list is :  ['Ali', 'Mari', 'Lili', 'Medi']\n"
     ]
    }
   ],
   "source": [
    "\n",
    "guests_list=[]\n",
    "#Add guests\n",
    "for guest in range(1,10):\n",
    "    guests_names=input(f\" Enter {guest} guest names \")\n",
    "    guests_list.append(guests_names)\n",
    "print(\" The guests list is : \", guests_list)\n",
    "\n",
    "# Remove guests\n",
    "for guest in guests_list:\n",
    "    name_to_remove=input('Enter the guest name that you wanna remove: ')\n",
    "    guests_list.remove(name_to_remove)\n",
    "print(\" The updated guests list is : \", guests_list)\n"
   ]
  },
  {
   "cell_type": "markdown",
   "id": "f392afd7",
   "metadata": {},
   "source": [
    "**Objective:**\n",
    "Practice using Python dictionaries and tuples by building a guest management system for a party.\n",
    "\n",
    "\n",
    "## **Steps To Complete**\n",
    "\n",
    "1. Guest List Initialization:\n",
    "\n",
    "Create an empty dictionary called guests to store guest information.\n",
    "Each guest will have a name, age, and email.\n",
    "2. Adding Guests:\n",
    "\n",
    "Add the following guests to your dictionary using tuples:\n",
    "\"Alice\", 28, \"alice@email.com\"\n",
    "\"Bob\", 35, \"bob@email.com\"\n",
    "\"Charlie\", 30, \"charlie@email.com\"\n",
    "Use the name as the dictionary key, and the tuple (age, email) as the value.\n",
    "3. Updating the Guest List:\n",
    "\n",
    "Add a new guest: \"David\", 22, \"david@email.com\".\n",
    "Remove \"Bob\" from the list.\n",
    "4. Guest Information Retriever:\n",
    "\n",
    "Create a function get_guest_info(guest_name) that:\n",
    "Checks if the guest is on the list.\n",
    "If yes, returns: \"{guest_name} (Age: {age}) is coming to the party! Email: {email}\"\n",
    "Otherwise, returns: \"{guest_name} is not on the guest list.\"\n",
    "5. Guest Counter:\n",
    "\n",
    "Display the total number of guests currently on the list.\n",
    "\n",
    "**Extensions:**\n",
    "\n",
    "Allow users to input their own guests, with the required details.\n",
    "Display guests in order of age.\n",
    "Handle the scenario where someone tries to add an existing guest. Prompt to update details or skip."
   ]
  },
  {
   "cell_type": "code",
   "execution_count": 14,
   "id": "114229cf",
   "metadata": {},
   "outputs": [
    {
     "name": "stdout",
     "output_type": "stream",
     "text": [
      "{'Alice': (28, 'alice@email.com'), 'Bob': (35, 'bob@email.com'), 'Charlie': (30, 'charlie@email.com')}\n"
     ]
    }
   ],
   "source": [
    "# Empty dictionnary\n",
    "guests= {}\n",
    "\n",
    "# 2. Adding guest\n",
    "guests[\"Alice\"]= (28, \"alice@email.com\")\n",
    "guests[\"Bob\"] = (35, \"bob@email.com\")\n",
    "guests[\"Charlie\"] = (30, \"charlie@email.com\")\n",
    "\n",
    "print(guests)\n"
   ]
  },
  {
   "cell_type": "code",
   "execution_count": 16,
   "id": "832c1f55",
   "metadata": {},
   "outputs": [
    {
     "name": "stdout",
     "output_type": "stream",
     "text": [
      "{'Alice': (28, 'alice@email.com'), 'Bob': (35, 'bob@email.com'), 'Charlie': (30, 'charlie@email.com'), 'David': (22, 'david@email.com')}\n"
     ]
    }
   ],
   "source": [
    "# Step 3: Updating the Guest List\n",
    "guests[\"David\"] = (22, \"david@email.com\")  # Adding new guest\n",
    "print(guests)"
   ]
  },
  {
   "cell_type": "code",
   "execution_count": 17,
   "id": "783ad1d7",
   "metadata": {},
   "outputs": [],
   "source": [
    "# Remove Bob from the dict\n",
    "\n",
    "del guests[\"Bob\"]"
   ]
  },
  {
   "cell_type": "code",
   "execution_count": 18,
   "id": "ea6274cd",
   "metadata": {
    "scrolled": true
   },
   "outputs": [
    {
     "name": "stdout",
     "output_type": "stream",
     "text": [
      "{'Alice': (28, 'alice@email.com'), 'Charlie': (30, 'charlie@email.com'), 'David': (22, 'david@email.com')}\n"
     ]
    }
   ],
   "source": [
    "print(guests)"
   ]
  },
  {
   "cell_type": "code",
   "execution_count": 32,
   "id": "da896b71",
   "metadata": {},
   "outputs": [
    {
     "data": {
      "text/plain": [
       "(22, 'david@email.com')"
      ]
     },
     "execution_count": 32,
     "metadata": {},
     "output_type": "execute_result"
    }
   ],
   "source": [
    "age, email= guests[\"David\"]\n",
    "age, email"
   ]
  },
  {
   "cell_type": "code",
   "execution_count": 34,
   "id": "139b5b94",
   "metadata": {},
   "outputs": [],
   "source": [
    "def get_guest_info(guest_name):\n",
    "    \n",
    "    \n",
    "    for guest_name in guests:\n",
    "        if guest_name in guests:\n",
    "            age, email= guests[guest_name]\n",
    "            return f\"{guest_name} (Age: {age} is coming to the party! Email: {email}\"\n",
    "        else:\n",
    "            return f\"{guest_name} is not on the guest list.\""
   ]
  },
  {
   "cell_type": "code",
   "execution_count": 35,
   "id": "e296e89c",
   "metadata": {},
   "outputs": [
    {
     "name": "stdout",
     "output_type": "stream",
     "text": [
      "Enter the guest name: Alice\n"
     ]
    },
    {
     "data": {
      "text/plain": [
       "'Alice (Age: 28 is coming to the party! Email: alice@email.com'"
      ]
     },
     "execution_count": 35,
     "metadata": {},
     "output_type": "execute_result"
    }
   ],
   "source": [
    "guest_name=input(\"Enter the guest name: \")\n",
    "get_guest_info(guest_name)"
   ]
  },
  {
   "cell_type": "code",
   "execution_count": 46,
   "id": "fb3007b7",
   "metadata": {},
   "outputs": [],
   "source": [
    "# Total number of guests in th elist\n",
    "\n",
    "def display_guest_count():\n",
    "    total_guests = len(guests)\n",
    "    print(f\"Total number of guests: {total_guests}\")"
   ]
  },
  {
   "cell_type": "code",
   "execution_count": 47,
   "id": "a8960018",
   "metadata": {},
   "outputs": [
    {
     "data": {
      "text/plain": [
       "[('David', (22, 'david@email.com')),\n",
       " ('Alice', (29, 'alice@gmail.com')),\n",
       " ('Charlie', (30, 'charlie@email.com'))]"
      ]
     },
     "execution_count": 47,
     "metadata": {},
     "output_type": "execute_result"
    }
   ],
   "source": [
    "sorted(guests.items(), key=lambda x: x[1][0])"
   ]
  },
  {
   "cell_type": "code",
   "execution_count": 48,
   "id": "c03d5198",
   "metadata": {},
   "outputs": [],
   "source": [
    "# Display guests in order of age\n",
    "def display_guests_by_age():\n",
    "    sorted_guests = sorted(guests.items(), key=lambda x: x[1][0])\n",
    "    for guest_name, (age, email) in sorted_guests:\n",
    "        print(f\"{guest_name} (Age: {age}), Email: {email}\")"
   ]
  },
  {
   "cell_type": "code",
   "execution_count": 49,
   "id": "e6c6fbb3",
   "metadata": {},
   "outputs": [],
   "source": [
    "# Allow users to input their own guests\n",
    "def add_guest_interactive():\n",
    "    name = input(\"Enter guest name: \")\n",
    "    age = int(input(\"Enter guest age: \"))\n",
    "    email = input(\"Enter guest email: \")\n",
    "    \n",
    "    if name in guests:\n",
    "        choice = input(f\"{name} is already on the list. Do you want to update details? (yes/no): \")\n",
    "        if choice.lower() == \"yes\":\n",
    "            guests[name] = (age, email)\n",
    "            print(f\"{name}'s details have been updated.\")\n",
    "    else:\n",
    "        guests[name] = (age, email)\n",
    "        print(f\"{name} has been added to the guest list.\")"
   ]
  },
  {
   "cell_type": "code",
   "execution_count": 50,
   "id": "e8afbf86",
   "metadata": {},
   "outputs": [
    {
     "name": "stdout",
     "output_type": "stream",
     "text": [
      "Enter guest name: Mari\n",
      "Enter guest age: 24\n",
      "Enter guest email: mari@gmail.com\n",
      "Mari has been added to the guest list.\n"
     ]
    }
   ],
   "source": [
    "# Adding guests interactively\n",
    "add_guest_interactive()"
   ]
  },
  {
   "cell_type": "code",
   "execution_count": 51,
   "id": "6fea503d",
   "metadata": {
    "scrolled": true
   },
   "outputs": [
    {
     "data": {
      "text/plain": [
       "{'Alice': (29, 'alice@gmail.com'),\n",
       " 'Charlie': (30, 'charlie@email.com'),\n",
       " 'David': (22, 'david@email.com'),\n",
       " 'Mari': (24, 'mari@gmail.com')}"
      ]
     },
     "execution_count": 51,
     "metadata": {},
     "output_type": "execute_result"
    }
   ],
   "source": [
    "guests"
   ]
  },
  {
   "cell_type": "code",
   "execution_count": 52,
   "id": "31686f67",
   "metadata": {},
   "outputs": [
    {
     "name": "stdout",
     "output_type": "stream",
     "text": [
      "David (Age: 22), Email: david@email.com\n",
      "Mari (Age: 24), Email: mari@gmail.com\n",
      "Alice (Age: 29), Email: alice@gmail.com\n",
      "Charlie (Age: 30), Email: charlie@email.com\n",
      "Enter guest name: David\n",
      "Alice (Age: 29 is coming to the party! Email: alice@gmail.com\n",
      "Total number of guests: 4\n"
     ]
    }
   ],
   "source": [
    "# Display guests in order of age\n",
    "display_guests_by_age()\n",
    "\n",
    "# Guest Information Retriever\n",
    "guest_name = input(\"Enter guest name: \")\n",
    "print(get_guest_info(guest_name))\n",
    "\n",
    "# Guest Counter\n",
    "display_guest_count()"
   ]
  },
  {
   "cell_type": "code",
   "execution_count": null,
   "id": "f121f2d0",
   "metadata": {},
   "outputs": [],
   "source": []
  }
 ],
 "metadata": {
  "kernelspec": {
   "display_name": "Python 3 (ipykernel)",
   "language": "python",
   "name": "python3"
  },
  "language_info": {
   "codemirror_mode": {
    "name": "ipython",
    "version": 3
   },
   "file_extension": ".py",
   "mimetype": "text/x-python",
   "name": "python",
   "nbconvert_exporter": "python",
   "pygments_lexer": "ipython3",
   "version": "3.7.9"
  }
 },
 "nbformat": 4,
 "nbformat_minor": 5
}

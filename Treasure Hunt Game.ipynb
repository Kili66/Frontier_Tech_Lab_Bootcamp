{
 "cells": [
  {
   "cell_type": "code",
   "execution_count": 80,
   "id": "c449dcb0",
   "metadata": {},
   "outputs": [],
   "source": [
    "import random\n",
    "\n",
    "def treasuregame():\n",
    "    \n",
    "    # define n and m, sizes of the matrix\n",
    "    n = int(input(\"Enter number of rows n for the board: \"))\n",
    "    m = int(input(\"Enter number of columns m for the board: \"))\n",
    "    \n",
    "    # define the board\n",
    "    board = [['*' for col in range(n)] for row in range(m)]\n",
    "    \n",
    "    # print the board\n",
    "    print(\"\\nHere is the initial game board:\", board)\n",
    "    \n",
    "    # define treasure rows and columns\n",
    "    tr_row = int(input(\"choose a row to hide treasure: \"))\n",
    "    tr_col = int(input(\"choose a column to hide treasure: \"))\n",
    "    \n",
    "    # check if n and m location are valid\n",
    "    if 0 <= tr_row < n and 0 <= tr_col < m:\n",
    "        board[tr_row][tr_col] = \"T\"\n",
    "    else:\n",
    "        print(\"Invalid location, please enter a valid row and column\")\n",
    "    \n",
    "    # Randomly place a trap on the board\n",
    "    trap_row = random.randint(0, n - 1)\n",
    "    trap_col = random.randint(0, m - 1)\n",
    "    \n",
    "    while trap_row == tr_row and trap_col == tr_col:\n",
    "        # generate randomly new trap location\n",
    "        trap_row = random.randint(0, n - 1)\n",
    "        trap_col = random.randint(0, m - 1)\n",
    "    \n",
    "    # place the trap at the location\n",
    "    board[trap_row][trap_col] = \"X\"\n",
    "    \n",
    "    # Ask player to guess the treasure location\n",
    "    guess_row = int(input(\"Enter a row number to guess the treasure: \"))\n",
    "    guess_col = int(input(\"Enter a column number to guess the treasure: \"))\n",
    "    \n",
    "    # check if the guess is valid\n",
    "    if 0 <= guess_row < n and 0 <= guess_col < m:\n",
    "        if guess_row == tr_row and guess_col == tr_col:\n",
    "            print(\"Congratulations! You found the treasure and you win the game \")\n",
    "        elif guess_row == trap_row and guess_col == trap_col:\n",
    "            # Display an error message\n",
    "            print(\"You landed on a hidden trap! Game over!\")\n",
    "        else:\n",
    "            print(\"\\nSorry, that's not the correct location. Keep trying!\")\n",
    "        \n",
    "        # display the board\n",
    "        # Display the board using nested loops\n",
    "        for i in range(n):\n",
    "            for j in range(m):\n",
    "                print(board[i][j], end=\" \")\n",
    "            print()  # New line after each row"
   ]
  },
  {
   "cell_type": "code",
   "execution_count": 81,
   "id": "2405b7ed",
   "metadata": {
    "scrolled": false
   },
   "outputs": [
    {
     "name": "stdout",
     "output_type": "stream",
     "text": [
      "Enter number of rows n for the board: 6\n",
      "Enter number of columns m for the board: 6\n",
      "\n",
      "Here is the initial game board: [['*', '*', '*', '*', '*', '*'], ['*', '*', '*', '*', '*', '*'], ['*', '*', '*', '*', '*', '*'], ['*', '*', '*', '*', '*', '*'], ['*', '*', '*', '*', '*', '*'], ['*', '*', '*', '*', '*', '*']]\n",
      "choose a row to hide treasure: 2\n",
      "choose a column to hide treasure: 2\n",
      "Enter a row number to guess the treasure: 2\n",
      "Enter a column number to guess the treasure: 2\n",
      "Congratulations! You found the treasure and you win the game \n",
      "* * * * * * \n",
      "* * * * * * \n",
      "* * T * * * \n",
      "* * X * * * \n",
      "* * * * * * \n",
      "* * * * * * \n"
     ]
    }
   ],
   "source": [
    " treasuregame()"
   ]
  },
  {
   "cell_type": "code",
   "execution_count": null,
   "id": "2f5745a7",
   "metadata": {},
   "outputs": [],
   "source": []
  }
 ],
 "metadata": {
  "kernelspec": {
   "display_name": "Python 3 (ipykernel)",
   "language": "python",
   "name": "python3"
  },
  "language_info": {
   "codemirror_mode": {
    "name": "ipython",
    "version": 3
   },
   "file_extension": ".py",
   "mimetype": "text/x-python",
   "name": "python",
   "nbconvert_exporter": "python",
   "pygments_lexer": "ipython3",
   "version": "3.7.9"
  }
 },
 "nbformat": 4,
 "nbformat_minor": 5
}

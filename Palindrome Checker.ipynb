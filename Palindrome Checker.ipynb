{
 "cells": [
  {
   "cell_type": "markdown",
   "id": "4935b339",
   "metadata": {},
   "source": [
    "## **Exercise: Palindrome Checker**\n",
    "Objective: Write a program to determine if a given word or sentence is a palindrome. A palindrome is a word, phrase, number, or other sequences of characters that reads the same forward and backward (ignoring spaces, punctuation, and capitalization).\n",
    "\n",
    "Instructions:\n",
    "\n",
    "Your program should be able to ignore non-alphanumeric characters and be case insensitive. For example, \"A man, a plan, a canal, Panama\" is a valid palindrome.\n",
    "\n",
    "Create two functions to check for palindromes:\n",
    "\n",
    "is_palindrome_while(input_string: str) -> bool: This function should use a while loop to check if the input string is a palindrome.\n",
    "is_palindrome_for(input_string: str) -> bool: This function should use a for loop to check if the input string is a palindrome.\n",
    "Both functions should return True if the input string is a palindrome and False otherwise.\n",
    "\n",
    "Test your functions with some sample inputs. Remember, your functions should be able to handle cases with spaces and punctuation.\n",
    "\n",
    "Hints:\n",
    "\n",
    "Consider using Python string methods and conditional checks to clean your input string.\n",
    "To check the palindrome property, consider how you might compare characters from the beginning and end of the string, moving inward."
   ]
  },
  {
   "cell_type": "code",
   "execution_count": 37,
   "id": "464e046f",
   "metadata": {},
   "outputs": [],
   "source": [
    "# This function uses a while loop to check if the input string is a palindrome\n",
    "def is_palindrome_while(input_string):\n",
    "  # Convert the input string to lower case and remove non-alphanumeric characters\n",
    "    input_string = input_string.lower()\n",
    "    clean_str = \"\"\n",
    "    for char in input_string:\n",
    "        if char.isalnum():\n",
    "            clean_str += char\n",
    "  \n",
    "  # Initialize two pointers at the start and end of the clean string\n",
    "    left = 0\n",
    "    right = len(clean_str) - 1\n",
    "\n",
    "  # Loop until the pointers meet or cross each other\n",
    "    while left < right:\n",
    "    # Compare the characters at the pointers\n",
    "        if clean_str[left] != clean_str[right]:\n",
    "      # Return False if they are not equal\n",
    "            return False\n",
    "    # Increment the left pointer and decrement the right pointer\n",
    "        left += 1\n",
    "        right -= 1\n",
    "  \n",
    "  # Return True if the loop ends without returning False\n",
    "    return True\n"
   ]
  },
  {
   "cell_type": "code",
   "execution_count": 38,
   "id": "392b93ea",
   "metadata": {
    "scrolled": false
   },
   "outputs": [
    {
     "name": "stdout",
     "output_type": "stream",
     "text": [
      "Enter a string:level\n"
     ]
    },
    {
     "data": {
      "text/plain": [
       "True"
      ]
     },
     "execution_count": 38,
     "metadata": {},
     "output_type": "execute_result"
    }
   ],
   "source": [
    "input_string=input(\"Enter a string:\")\n",
    "is_palindrome_while(input_string)"
   ]
  },
  {
   "cell_type": "code",
   "execution_count": 39,
   "id": "3c8915cf",
   "metadata": {},
   "outputs": [],
   "source": [
    "# This function uses a for loop to check if the input string is a palindrome\n",
    "def is_palindrome_for(input_string):\n",
    "      # Convert the input string to lower case and remove non-alphanumeric characters\n",
    "    input_string = input_string.lower()\n",
    "    clean_str = \"\"\n",
    "    for char in input_string:\n",
    "        if char.isalnum():\n",
    "            clean_str += char\n",
    "  \n",
    "  # Initialize two pointers at the start and end of the clean string\n",
    "    left = 0\n",
    "    right = len(clean_str) - 1\n",
    "\n",
    "      # Loop over half of the length of the clean string\n",
    "    for i in range(len(clean_str) // 2):\n",
    "    # Compare the characters at the pointers\n",
    "        if clean_str[left] != clean_str[right]:\n",
    "          # Return False if they are not equal\n",
    "          return False\n",
    "    # Increment the left pointer and decrement the right pointer\n",
    "    left += 1\n",
    "    right -= 1\n",
    "  \n",
    "    # Return True if the loop ends without returning False\n",
    "    return True"
   ]
  },
  {
   "cell_type": "code",
   "execution_count": 40,
   "id": "5ceddd06",
   "metadata": {
    "scrolled": false
   },
   "outputs": [
    {
     "name": "stdout",
     "output_type": "stream",
     "text": [
      "Enter a string:maman \n"
     ]
    },
    {
     "data": {
      "text/plain": [
       "False"
      ]
     },
     "execution_count": 40,
     "metadata": {},
     "output_type": "execute_result"
    }
   ],
   "source": [
    "input_string=input(\"Enter a string:\")\n",
    "is_palindrome_for(input_string)"
   ]
  },
  {
   "cell_type": "code",
   "execution_count": null,
   "id": "d18844a9",
   "metadata": {},
   "outputs": [],
   "source": [
    "def is_palindrome_while(input_string):\n",
    "  # Convert the input string to lower case and remove non-alphanumeric characters\n",
    "    input_string = input_string.lower()\n",
    "    clean_str = \"\"\n",
    "    for char in input_string:\n",
    "        if char.isalnum():\n",
    "            clean_str += char\n",
    "  \n",
    "  # Initialize two pointers at the start and end of the clean string\n",
    "    left = 0\n",
    "    right = len(clean_str) - 1\n",
    "\n",
    "  # Loop until the pointers meet or cross each other\n",
    "    while left < right:\n",
    "    # Compare the characters at the pointers\n",
    "        if clean_str[left] != clean_str[right]:\n",
    "      # Return False if they are not equal\n",
    "            print(clean_str[left] + \" is not palindrome\")\n",
    "            return False\n",
    "    # Increment the left pointer and decrement the right pointer\n",
    "        left += 1\n",
    "        right -= 1\n",
    "  \n",
    "  # Return True if the loop ends without returning False\n",
    "    return True"
   ]
  }
 ],
 "metadata": {
  "kernelspec": {
   "display_name": "Python 3 (ipykernel)",
   "language": "python",
   "name": "python3"
  },
  "language_info": {
   "codemirror_mode": {
    "name": "ipython",
    "version": 3
   },
   "file_extension": ".py",
   "mimetype": "text/x-python",
   "name": "python",
   "nbconvert_exporter": "python",
   "pygments_lexer": "ipython3",
   "version": "3.7.9"
  }
 },
 "nbformat": 4,
 "nbformat_minor": 5
}

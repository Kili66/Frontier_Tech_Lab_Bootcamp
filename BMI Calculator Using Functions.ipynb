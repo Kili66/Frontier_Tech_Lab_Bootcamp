{
 "cells": [
  {
   "cell_type": "code",
   "execution_count": 3,
   "id": "7296f3f6",
   "metadata": {},
   "outputs": [],
   "source": [
    "def calculate_bmi(weight, height):\n",
    "    \n",
    "    \n",
    "\n",
    "    # Validate the input\n",
    "    while weight <= 0 or height <= 0:\n",
    "        print(\"You cannot enter a number less or equal to zero\")\n",
    "        weight = float(input(\"Please try again, your weight in kg: \"))\n",
    "        height = float(input(\"Please try again, your height in meters: \"))\n",
    "    \n",
    "    # Calculate the bmi\n",
    "    bmi = weight / height**2\n",
    "\n",
    "    # Print the result\n",
    "    if bmi < 18.5:\n",
    "        print(f\"Your bmi is: {bmi:.2f}, you are underweight\")\n",
    "    elif bmi <= 24.9:\n",
    "        print(f\"Your bmi is: {bmi:.2f}, you have a normal weight\")\n",
    "    elif bmi <= 29.9:\n",
    "        print(f\"Your bmi is: {bmi:.2f}, you are overweight\")\n",
    "    else:\n",
    "        print(f\"Your bmi is: {bmi:.2f}, you are obese\")\n",
    "\n",
    "    return bmi"
   ]
  },
  {
   "cell_type": "code",
   "execution_count": 6,
   "id": "69e50e4b",
   "metadata": {
    "scrolled": true
   },
   "outputs": [
    {
     "name": "stdout",
     "output_type": "stream",
     "text": [
      "Enter your weight in kg: -2\n",
      "Enter your height in meters: 3\n",
      "You cannot enter a number less or equal to zero\n",
      "Please try again, your weight in kg: -9\n",
      "Please try again, your height in meters: 3\n",
      "You cannot enter a number less or equal to zero\n",
      "Please try again, your weight in kg: 36\n",
      "Please try again, your height in meters: 78\n",
      "Your bmi is: 0.01, you are underweight\n"
     ]
    },
    {
     "data": {
      "text/plain": [
       "0.005917159763313609"
      ]
     },
     "execution_count": 6,
     "metadata": {},
     "output_type": "execute_result"
    }
   ],
   "source": [
    "weight = float(input(\"Enter your weight in kg: \"))\n",
    "height = float(input(\"Enter your height in meters: \"))\n",
    "calculate_bmi(weight, height)"
   ]
  },
  {
   "cell_type": "code",
   "execution_count": null,
   "id": "52a34f02",
   "metadata": {},
   "outputs": [],
   "source": []
  }
 ],
 "metadata": {
  "kernelspec": {
   "display_name": "Python 3 (ipykernel)",
   "language": "python",
   "name": "python3"
  },
  "language_info": {
   "codemirror_mode": {
    "name": "ipython",
    "version": 3
   },
   "file_extension": ".py",
   "mimetype": "text/x-python",
   "name": "python",
   "nbconvert_exporter": "python",
   "pygments_lexer": "ipython3",
   "version": "3.7.9"
  }
 },
 "nbformat": 4,
 "nbformat_minor": 5
}

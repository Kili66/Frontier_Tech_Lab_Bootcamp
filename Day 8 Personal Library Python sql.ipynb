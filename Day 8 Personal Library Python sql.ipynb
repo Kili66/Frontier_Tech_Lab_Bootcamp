{
 "cells": [
  {
   "cell_type": "code",
   "execution_count": 33,
   "id": "d409d95c",
   "metadata": {},
   "outputs": [],
   "source": [
    "import sqlite3\n",
    "\n",
    "# create  database\n",
    "conn= sqlite3.connect('library.db')\n",
    "c= conn.cursor()\n",
    "\n",
    "# create table named books\n",
    "\n",
    "c.execute('''\n",
    "    CREATE TABLE IF NOT EXISTS Books(\n",
    "    BookId INTEGER PRIMARY KEY,\n",
    "    Title TEXT,\n",
    "    Author TEXT,\n",
    "    YearPublished INTEGER,\n",
    "    Genre TEXT\n",
    "    )\n",
    "''')\n",
    "  \n",
    "\n",
    "conn.commit()\n",
    "conn.close()"
   ]
  },
  {
   "cell_type": "markdown",
   "id": "515a2d34",
   "metadata": {},
   "source": [
    "### Insert rows\n",
    "\n",
    "Now, i'll insert some of my favorite books into the table."
   ]
  },
  {
   "cell_type": "code",
   "execution_count": 34,
   "id": "35983722",
   "metadata": {
    "scrolled": false
   },
   "outputs": [
    {
     "ename": "OperationalError",
     "evalue": "unrecognized token: \"\",\n    (1,'Atomic Habits', 'James Clear', '2018', 'Self development'),\n    (2,'Becoming', 'Michelle Obama', '2018', 'Memoir/Story'),\n    (3,'A woman makes a plan','Mayes Musk', '2019', 'Biographie'),\n    (4,'I am Malala', 'Malala Yusufzai', '2013', 'Story'),\n    (5,'Une si longue lettre', 'Mariama Ba', '1979',' Fiction')\n    \n\"",
     "output_type": "error",
     "traceback": [
      "\u001b[1;31m---------------------------------------------------------------------------\u001b[0m",
      "\u001b[1;31mOperationalError\u001b[0m                          Traceback (most recent call last)",
      "\u001b[1;32m~\\AppData\\Local\\Temp\\ipykernel_15140\\3883922491.py\u001b[0m in \u001b[0;36m<module>\u001b[1;34m\u001b[0m\n\u001b[0;32m     11\u001b[0m     \u001b[1;33m(\u001b[0m\u001b[1;36m5\u001b[0m\u001b[1;33m,\u001b[0m\u001b[1;34m'Une si longue lettre'\u001b[0m\u001b[1;33m,\u001b[0m \u001b[1;34m'Mariama Ba'\u001b[0m\u001b[1;33m,\u001b[0m \u001b[1;34m'1979'\u001b[0m\u001b[1;33m,\u001b[0m\u001b[1;34m' Fiction'\u001b[0m\u001b[1;33m)\u001b[0m\u001b[1;33m\u001b[0m\u001b[1;33m\u001b[0m\u001b[0m\n\u001b[0;32m     12\u001b[0m \u001b[1;33m\u001b[0m\u001b[0m\n\u001b[1;32m---> 13\u001b[1;33m ''')\n\u001b[0m\u001b[0;32m     14\u001b[0m \u001b[1;33m\u001b[0m\u001b[0m\n\u001b[0;32m     15\u001b[0m \u001b[0mconn\u001b[0m\u001b[1;33m.\u001b[0m\u001b[0mcommit\u001b[0m\u001b[1;33m(\u001b[0m\u001b[1;33m)\u001b[0m\u001b[1;33m\u001b[0m\u001b[1;33m\u001b[0m\u001b[0m\n",
      "\u001b[1;31mOperationalError\u001b[0m: unrecognized token: \"\",\n    (1,'Atomic Habits', 'James Clear', '2018', 'Self development'),\n    (2,'Becoming', 'Michelle Obama', '2018', 'Memoir/Story'),\n    (3,'A woman makes a plan','Mayes Musk', '2019', 'Biographie'),\n    (4,'I am Malala', 'Malala Yusufzai', '2013', 'Story'),\n    (5,'Une si longue lettre', 'Mariama Ba', '1979',' Fiction')\n    \n\""
     ]
    }
   ],
   "source": [
    "conn=sqlite3.connect('library.db')\n",
    "\n",
    "c= conn.cursor()\n",
    "\n",
    "c.execute('''\n",
    "    INSERT INTO Books(BookId, Title, Author, YearPublished, Genre) VALUES (?, ?, ?, ?, ?)\",\n",
    "    (1,'Atomic Habits', 'James Clear', '2018', 'Self development'),\n",
    "    (2,'Becoming', 'Michelle Obama', '2018', 'Memoir/Story'),\n",
    "    (3,'A woman makes a plan','Mayes Musk', '2019', 'Biographie'),\n",
    "    (4,'I am Malala', 'Malala Yusufzai', '2013', 'Story'),\n",
    "    (5,'Une si longue lettre', 'Mariama Ba', '1979',' Fiction')\n",
    "    \n",
    "''')\n",
    "\n",
    "conn.commit()\n",
    "conn.close()"
   ]
  },
  {
   "cell_type": "markdown",
   "id": "e834d48c",
   "metadata": {},
   "source": [
    "### **Step 3: Select rows**\n",
    "\n",
    "To view the data we've inserted, we'll retrieve and print the rows from our table."
   ]
  },
  {
   "cell_type": "code",
   "execution_count": 35,
   "id": "667a4db0",
   "metadata": {},
   "outputs": [
    {
     "name": "stdout",
     "output_type": "stream",
     "text": [
      "(1, 'Atomic Habits', 'James Clear', 2018, 'Self development')\n",
      "(2, 'Becoming', 'Michelle Obama', 2023, 'Memoir/Story')\n",
      "(3, 'A woman makes a plan', 'Mayes Musk', 2019, 'Biographie')\n",
      "(4, 'I am Malala', 'Malala Yusufzai', 2013, 'Story')\n",
      "(5, 'Une si longue lettre', 'Mariama Ba', 1979, ' Fiction')\n"
     ]
    }
   ],
   "source": [
    "conn= sqlite3.connect('library.db')\n",
    "c= conn.cursor()\n",
    "\n",
    "c.execute('SELECT * FROM Books')\n",
    "\n",
    "rows= c.fetchall()\n",
    "\n",
    "for row in rows:\n",
    "    print(row)\n",
    "    \n",
    "conn.close()"
   ]
  },
  {
   "cell_type": "markdown",
   "id": "a472720b",
   "metadata": {},
   "source": [
    "2-\tWrite and execute an SQL query to find all books published after the year 2000."
   ]
  },
  {
   "cell_type": "code",
   "execution_count": 37,
   "id": "b133d42d",
   "metadata": {
    "scrolled": true
   },
   "outputs": [
    {
     "name": "stdout",
     "output_type": "stream",
     "text": [
      "(1, 'Atomic Habits', 'James Clear', 2018, 'Self development')\n",
      "(2, 'Becoming', 'Michelle Obama', 2023, 'Memoir/Story')\n",
      "(3, 'A woman makes a plan', 'Mayes Musk', 2019, 'Biographie')\n",
      "(4, 'I am Malala', 'Malala Yusufzai', 2013, 'Story')\n"
     ]
    }
   ],
   "source": [
    "conn= sqlite3.connect('library.db')\n",
    "c= conn.cursor()\n",
    "\n",
    "c.execute('SELECT * FROM Books WHERE YaerPublished>2000')\n",
    "\n",
    "rows= c.fetchall()\n",
    "\n",
    "for row in rows:\n",
    "    print(row)\n",
    "conn.close()"
   ]
  },
  {
   "cell_type": "markdown",
   "id": "e0378951",
   "metadata": {},
   "source": [
    "3-\tWrite and execute an SQL query to find all books in the \"Fiction\" genre."
   ]
  },
  {
   "cell_type": "code",
   "execution_count": 38,
   "id": "610f4e6d",
   "metadata": {},
   "outputs": [
    {
     "name": "stdout",
     "output_type": "stream",
     "text": [
      "[(4, 'I am Malala', 'Malala Yusufzai', 2013, 'Story')]\n"
     ]
    }
   ],
   "source": [
    "conn= sqlite3.connect('library.db')\n",
    "c= conn.cursor()\n",
    "\n",
    "c.execute('SELECT * FROM Books WHERE Genre=\"Story\" ')\n",
    "\n",
    "rows= c.fetchall()\n",
    "print(rows)\n",
    "conn.close()"
   ]
  },
  {
   "cell_type": "code",
   "execution_count": 39,
   "id": "e6c843b7",
   "metadata": {
    "scrolled": true
   },
   "outputs": [
    {
     "name": "stdout",
     "output_type": "stream",
     "text": [
      "(2, 'Becoming', 'Michelle Obama', 2023, 'Memoir/Story')\n"
     ]
    }
   ],
   "source": [
    "conn3= sqlite3.connect('library.db')\n",
    "c= conn3.cursor()\n",
    "c.execute('UPDATE Books SET YaerPublished=\"2023\" WHERE Title=\"Becoming\"')\n",
    "\n",
    "c.execute('SELECT * FROM Books WHERE Title=\"Becoming\"')\n",
    "rows= c.fetchall()\n",
    "for row in rows:\n",
    "    print(row)\n",
    "conn3.close()\n"
   ]
  },
  {
   "cell_type": "code",
   "execution_count": 42,
   "id": "b3df2c5c",
   "metadata": {},
   "outputs": [
    {
     "name": "stdout",
     "output_type": "stream",
     "text": [
      "(1, 'Atomic Habits', 'James Clear', 2018, 'Self development')\n",
      "(2, 'Becoming', 'Michelle Obama', 2023, 'Memoir/Story')\n",
      "(3, 'A woman makes a plan', 'Mayes Musk', 2019, 'Biographie')\n",
      "(4, 'I am Malala', 'Malala Yusufzai', 2013, 'Story')\n",
      "(5, 'Une si longue lettre', 'Mariama Ba', 1979, ' Fiction')\n"
     ]
    }
   ],
   "source": [
    "conn3= sqlite3.connect('library.db')\n",
    "c= conn3.cursor()\n",
    "c.execute('DELETE FROM Books WHERE Title=\"Une si longue Lettre\"')\n",
    "\n",
    "c.execute('SELECT * FROM Books')\n",
    "rows= c.fetchall()\n",
    "for row in rows:\n",
    "    print(row)\n",
    "conn3.close()\n"
   ]
  },
  {
   "cell_type": "code",
   "execution_count": null,
   "id": "ee905f4e",
   "metadata": {},
   "outputs": [],
   "source": []
  }
 ],
 "metadata": {
  "kernelspec": {
   "display_name": "Python 3 (ipykernel)",
   "language": "python",
   "name": "python3"
  },
  "language_info": {
   "codemirror_mode": {
    "name": "ipython",
    "version": 3
   },
   "file_extension": ".py",
   "mimetype": "text/x-python",
   "name": "python",
   "nbconvert_exporter": "python",
   "pygments_lexer": "ipython3",
   "version": "3.7.9"
  }
 },
 "nbformat": 4,
 "nbformat_minor": 5
}

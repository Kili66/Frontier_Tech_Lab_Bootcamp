{
 "cells": [
  {
   "cell_type": "markdown",
   "id": "982a3898",
   "metadata": {},
   "source": [
    "# BMI Calculator and Health Assessment"
   ]
  },
  {
   "cell_type": "markdown",
   "id": "adbd00c3",
   "metadata": {},
   "source": [
    "**Objective:**\n",
    "\n",
    "Build a Python program that calculates the Body Mass Index (BMI) of a user and provides a health assessment based on their BMI value.\n",
    "\n",
    "**Background Context:**\n",
    "BMI is a measure used to determine whether a person has a healthy body weight for a person of their height. It is calculated using the following formula:\n",
    "\n",
    "$$ \\text{BMI} = \\frac{\\text{weight in kilograms}}{\\text{height in meters}^2} $$"
   ]
  },
  {
   "cell_type": "code",
   "execution_count": 1,
   "id": "898557c5",
   "metadata": {
    "scrolled": false
   },
   "outputs": [],
   "source": [
    "weigh= float(input(\"enter your weight in kg: \"))\n",
    "hight= float(input(\"enter your hight in kg: \"))\n",
    "bmi=weigh/hight\n",
    "\n",
    "if weigh<=0 or hight<=0:\n",
    "    print(\"You cannot enter a number less or equal to zero\")\n",
    "    weigh= float(input(\"please try again, your weight in kg: \"))\n",
    "    hight= float(input(\"please try again, your hight in kg: \"))\n",
    "    bmi=weigh/hight\n",
    "    if bmi<18.5:\n",
    "        print(f\"your ibm is: {bmi}, you are underweight\")\n",
    "    elif bmi>=18.5 and bmi<=24.9:\n",
    "        print(f\"your ibm is: {bmi}, you have a normal weight\")\n",
    "    elif bmi>=25 and bmi<=29.9:\n",
    "        print(f\"your ibm is: {bmi}, you have a normal weight\")\n",
    "    elif bmi>=30:\n",
    "        print(f\"your ibm is: {bmi}, you are in obesity\")\n",
    "\n",
    "else:\n",
    "    bmi=weigh/hight\n",
    "    if bmi<18.5:\n",
    "        print(f\"your ibm is: {bmi}, you are underweight\")\n",
    "    elif bmi>=18.5 and bmi<=24.9:\n",
    "        print(f\"your ibm is: {bmi}, you have a normal weight\")\n",
    "    elif bmi>=25 and bmi<=29.9:\n",
    "        print(f\"your ibm is: {bmi}, you have a normal weight\")\n",
    "    elif bmi>=30:\n",
    "        print(f\"your ibm is: {bmi}, you are in obesity\")\n"
   ]
  },
  {
   "cell_type": "code",
   "execution_count": null,
   "id": "a921d75c",
   "metadata": {},
   "outputs": [],
   "source": []
  }
 ],
 "metadata": {
  "kernelspec": {
   "display_name": "Python 3 (ipykernel)",
   "language": "python",
   "name": "python3"
  },
  "language_info": {
   "codemirror_mode": {
    "name": "ipython",
    "version": 3
   },
   "file_extension": ".py",
   "mimetype": "text/x-python",
   "name": "python",
   "nbconvert_exporter": "python",
   "pygments_lexer": "ipython3",
   "version": "3.11.3"
  }
 },
 "nbformat": 4,
 "nbformat_minor": 5
}

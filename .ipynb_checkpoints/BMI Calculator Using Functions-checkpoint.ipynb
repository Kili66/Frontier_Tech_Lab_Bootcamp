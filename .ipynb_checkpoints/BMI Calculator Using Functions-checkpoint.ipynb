{
 "cells": [
  {
   "cell_type": "code",
   "execution_count": 6,
   "id": "7296f3f6",
   "metadata": {},
   "outputs": [],
   "source": [
    "def calculate_bmi(weight, height):\n",
    "    \n",
    "    bmi= weight/height\n",
    "    \n",
    "    if weight>0 and height>0:\n",
    "        if bmi<18.5:\n",
    "            print(f\"your ibm is: {bmi}, you are underweight\")\n",
    "        elif bmi>=18.5 and bmi<=24.9:\n",
    "            print(f\"your ibm is: {bmi}, you have a normal weight\")\n",
    "        elif bmi>=25 and bmi<=29.9:\n",
    "            print(f\"your ibm is: {bmi}, you have a normal weight\")\n",
    "        elif bmi>=30:\n",
    "            print(f\"your ibm is: {bmi}, you are in obesity\")\n",
    "    else:\n",
    "        print(\"You cannot enter a number less or equal to zero\")\n",
    "        weigh= float(input(\"please try again, your weight in kg: \"))\n",
    "        hight= float(input(\"please try again, your hight in kg: \"))\n",
    "        bmi=weigh/hight\n",
    "        if bmi<18.5:\n",
    "            print(f\"your ibm is: {bmi}, you are underweight\")\n",
    "        elif bmi>=18.5 and bmi<=24.9:\n",
    "            print(f\"your ibm is: {bmi}, you have a normal weight\")\n",
    "        elif bmi>=25 and bmi<=29.9:\n",
    "            print(f\"your ibm is: {bmi}, you have a normal weight\")\n",
    "        elif bmi>=30:\n",
    "            print(f\"your ibm is: {bmi}, you are in obesity\")\n",
    "            \n",
    "    return bmi"
   ]
  },
  {
   "cell_type": "code",
   "execution_count": 9,
   "id": "bc3604fc",
   "metadata": {
    "scrolled": false
   },
   "outputs": [
    {
     "name": "stdout",
     "output_type": "stream",
     "text": [
      "please try again, your weight in kg: -2\n",
      "please try again, your hight in kg: 25\n",
      "You cannot enter a number less or equal to zero\n",
      "please try again, your weight in kg: -3\n",
      "please try again, your hight in kg: 15\n",
      "your ibm is: -0.2, you are underweight\n"
     ]
    },
    {
     "data": {
      "text/plain": [
       "-0.2"
      ]
     },
     "execution_count": 9,
     "metadata": {},
     "output_type": "execute_result"
    }
   ],
   "source": [
    "weight= float(input(\"please try again, your weight in kg: \"))\n",
    "height= float(input(\"please try again, your hight in kg: \"))\n",
    "calculate_bmi(weight, height)"
   ]
  },
  {
   "cell_type": "code",
   "execution_count": null,
   "id": "26060bf8",
   "metadata": {},
   "outputs": [],
   "source": []
  }
 ],
 "metadata": {
  "kernelspec": {
   "display_name": "Python 3 (ipykernel)",
   "language": "python",
   "name": "python3"
  },
  "language_info": {
   "codemirror_mode": {
    "name": "ipython",
    "version": 3
   },
   "file_extension": ".py",
   "mimetype": "text/x-python",
   "name": "python",
   "nbconvert_exporter": "python",
   "pygments_lexer": "ipython3",
   "version": "3.7.9"
  }
 },
 "nbformat": 4,
 "nbformat_minor": 5
}
